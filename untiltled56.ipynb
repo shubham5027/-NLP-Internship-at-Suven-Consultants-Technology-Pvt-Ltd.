{
  "cells": [
    {
      "cell_type": "markdown",
      "metadata": {
        "id": "view-in-github",
        "colab_type": "text"
      },
      "source": [
        "<a href=\"https://colab.research.google.com/github/shubham5027/NLP-Internship-at-Suven-Consultants-Technology-Pvt-Ltd./blob/main/untiltled56.ipynb\" target=\"_parent\"><img src=\"https://colab.research.google.com/assets/colab-badge.svg\" alt=\"Open In Colab\"/></a>"
      ]
    },
    {
      "cell_type": "code",
      "execution_count": 9,
      "id": "32287376",
      "metadata": {
        "_cell_guid": "b1076dfc-b9ad-4769-8c92-a6c4dae69d19",
        "_uuid": "8f2839f25d086af736a60e9eeb907d3b93b6e0e5",
        "execution": {
          "iopub.execute_input": "2023-12-04T13:47:04.703777Z",
          "iopub.status.busy": "2023-12-04T13:47:04.702675Z",
          "iopub.status.idle": "2023-12-04T13:48:35.216743Z",
          "shell.execute_reply": "2023-12-04T13:48:35.215940Z"
        },
        "papermill": {
          "duration": 90.527099,
          "end_time": "2023-12-04T13:48:35.218392",
          "exception": false,
          "start_time": "2023-12-04T13:47:04.691293",
          "status": "completed"
        },
        "tags": [],
        "colab": {
          "base_uri": "https://localhost:8080/"
        },
        "id": "32287376",
        "outputId": "79e36ef9-5ce3-410b-b104-bc55161e5fb6"
      },
      "outputs": [
        {
          "output_type": "stream",
          "name": "stderr",
          "text": [
            "[nltk_data] Downloading package stopwords to /root/nltk_data...\n",
            "[nltk_data]   Package stopwords is already up-to-date!\n",
            "[nltk_data] Downloading package punkt to /root/nltk_data...\n",
            "[nltk_data]   Package punkt is already up-to-date!\n",
            "[nltk_data] Downloading package wordnet to /root/nltk_data...\n",
            "[nltk_data]   Package wordnet is already up-to-date!\n",
            "[nltk_data] Downloading package omw-1.4 to /root/nltk_data...\n",
            "[nltk_data]   Package omw-1.4 is already up-to-date!\n"
          ]
        },
        {
          "output_type": "stream",
          "name": "stdout",
          "text": [
            "Requirement already satisfied: emoji in /usr/local/lib/python3.10/dist-packages (2.9.0)\n"
          ]
        }
      ],
      "source": [
        "\n",
        "import numpy as np\n",
        "import pandas as pd\n",
        "import matplotlib.pyplot as plt\n",
        "import seaborn as sns\n",
        "import re\n",
        "\n",
        "from gensim.models import Word2Vec\n",
        "from sklearn.ensemble import RandomForestClassifier\n",
        "from sklearn.naive_bayes import GaussianNB\n",
        "from sklearn.preprocessing import LabelEncoder, OneHotEncoder\n",
        "from sklearn.model_selection import train_test_split\n",
        "from sklearn.preprocessing import MinMaxScaler\n",
        "from sklearn.feature_extraction.text import TfidfVectorizer\n",
        "from sklearn.metrics import accuracy_score\n",
        "\n",
        "from nltk.corpus import stopwords\n",
        "from nltk.stem import WordNetLemmatizer\n",
        "from nltk.tokenize import word_tokenize\n",
        "\n",
        "import nltk\n",
        "nltk.download('stopwords')\n",
        "nltk.download('punkt')\n",
        "nltk.download('wordnet')\n",
        "nltk.download('omw-1.4')\n",
        "!pip install  emoji\n"
      ]
    },
    {
      "cell_type": "code",
      "source": [
        "import emoji"
      ],
      "metadata": {
        "id": "5bYzSK46KU4S"
      },
      "id": "5bYzSK46KU4S",
      "execution_count": 10,
      "outputs": []
    },
    {
      "cell_type": "code",
      "execution_count": 11,
      "id": "896804b2",
      "metadata": {
        "execution": {
          "iopub.execute_input": "2023-12-04T13:48:35.242193Z",
          "iopub.status.busy": "2023-12-04T13:48:35.240946Z",
          "iopub.status.idle": "2023-12-04T13:48:35.313095Z",
          "shell.execute_reply": "2023-12-04T13:48:35.311767Z"
        },
        "papermill": {
          "duration": 0.081318,
          "end_time": "2023-12-04T13:48:35.315505",
          "exception": false,
          "start_time": "2023-12-04T13:48:35.234187",
          "status": "completed"
        },
        "tags": [],
        "id": "896804b2"
      },
      "outputs": [],
      "source": [
        "df1 = pd.read_csv(\"/content/emotion-labels-train.csv\")\n",
        "df2 = pd.read_csv(\"/content/emotion-labels-train.csv\")\n",
        "df3 = pd.read_csv(\"/content/emotion-labels-val.csv\")"
      ]
    },
    {
      "cell_type": "code",
      "execution_count": 12,
      "id": "620bd474",
      "metadata": {
        "execution": {
          "iopub.execute_input": "2023-12-04T13:48:35.328741Z",
          "iopub.status.busy": "2023-12-04T13:48:35.327893Z",
          "iopub.status.idle": "2023-12-04T13:48:35.361172Z",
          "shell.execute_reply": "2023-12-04T13:48:35.359647Z"
        },
        "papermill": {
          "duration": 0.043241,
          "end_time": "2023-12-04T13:48:35.364182",
          "exception": false,
          "start_time": "2023-12-04T13:48:35.320941",
          "status": "completed"
        },
        "tags": [],
        "colab": {
          "base_uri": "https://localhost:8080/"
        },
        "id": "620bd474",
        "outputId": "8d68b2ba-cd43-4b34-936f-91aadd1d1569"
      },
      "outputs": [
        {
          "output_type": "stream",
          "name": "stdout",
          "text": [
            "<class 'pandas.core.frame.DataFrame'>\n",
            "RangeIndex: 3613 entries, 0 to 3612\n",
            "Data columns (total 2 columns):\n",
            " #   Column  Non-Null Count  Dtype \n",
            "---  ------  --------------  ----- \n",
            " 0   text    3613 non-null   object\n",
            " 1   label   3613 non-null   object\n",
            "dtypes: object(2)\n",
            "memory usage: 56.6+ KB\n"
          ]
        }
      ],
      "source": [
        "df1.info()"
      ]
    },
    {
      "cell_type": "code",
      "execution_count": 13,
      "id": "e2346973",
      "metadata": {
        "execution": {
          "iopub.execute_input": "2023-12-04T13:48:35.376900Z",
          "iopub.status.busy": "2023-12-04T13:48:35.376380Z",
          "iopub.status.idle": "2023-12-04T13:48:35.390861Z",
          "shell.execute_reply": "2023-12-04T13:48:35.388729Z"
        },
        "papermill": {
          "duration": 0.023534,
          "end_time": "2023-12-04T13:48:35.393123",
          "exception": false,
          "start_time": "2023-12-04T13:48:35.369589",
          "status": "completed"
        },
        "tags": [],
        "colab": {
          "base_uri": "https://localhost:8080/"
        },
        "id": "e2346973",
        "outputId": "8f53ce6d-414d-4da5-fcb4-bf2db805cafc"
      },
      "outputs": [
        {
          "output_type": "stream",
          "name": "stdout",
          "text": [
            "<class 'pandas.core.frame.DataFrame'>\n",
            "RangeIndex: 3613 entries, 0 to 3612\n",
            "Data columns (total 2 columns):\n",
            " #   Column  Non-Null Count  Dtype \n",
            "---  ------  --------------  ----- \n",
            " 0   text    3613 non-null   object\n",
            " 1   label   3613 non-null   object\n",
            "dtypes: object(2)\n",
            "memory usage: 56.6+ KB\n"
          ]
        }
      ],
      "source": [
        "df2.info()"
      ]
    },
    {
      "cell_type": "code",
      "execution_count": 14,
      "id": "0519d33e",
      "metadata": {
        "execution": {
          "iopub.execute_input": "2023-12-04T13:48:35.405678Z",
          "iopub.status.busy": "2023-12-04T13:48:35.405085Z",
          "iopub.status.idle": "2023-12-04T13:48:35.418504Z",
          "shell.execute_reply": "2023-12-04T13:48:35.417006Z"
        },
        "papermill": {
          "duration": 0.02256,
          "end_time": "2023-12-04T13:48:35.420877",
          "exception": false,
          "start_time": "2023-12-04T13:48:35.398317",
          "status": "completed"
        },
        "tags": [],
        "colab": {
          "base_uri": "https://localhost:8080/"
        },
        "id": "0519d33e",
        "outputId": "afc23cef-ad54-4918-d44a-463d2166dd2b"
      },
      "outputs": [
        {
          "output_type": "stream",
          "name": "stdout",
          "text": [
            "<class 'pandas.core.frame.DataFrame'>\n",
            "RangeIndex: 347 entries, 0 to 346\n",
            "Data columns (total 2 columns):\n",
            " #   Column  Non-Null Count  Dtype \n",
            "---  ------  --------------  ----- \n",
            " 0   text    347 non-null    object\n",
            " 1   label   347 non-null    object\n",
            "dtypes: object(2)\n",
            "memory usage: 5.5+ KB\n"
          ]
        }
      ],
      "source": [
        "df3.info()"
      ]
    },
    {
      "cell_type": "code",
      "execution_count": 15,
      "id": "2c4e71de",
      "metadata": {
        "execution": {
          "iopub.execute_input": "2023-12-04T13:48:35.433549Z",
          "iopub.status.busy": "2023-12-04T13:48:35.433075Z",
          "iopub.status.idle": "2023-12-04T13:48:35.444853Z",
          "shell.execute_reply": "2023-12-04T13:48:35.442775Z"
        },
        "papermill": {
          "duration": 0.020907,
          "end_time": "2023-12-04T13:48:35.447194",
          "exception": false,
          "start_time": "2023-12-04T13:48:35.426287",
          "status": "completed"
        },
        "tags": [],
        "colab": {
          "base_uri": "https://localhost:8080/"
        },
        "id": "2c4e71de",
        "outputId": "68b647ba-5574-4266-eb9d-b0f6703dd1a1"
      },
      "outputs": [
        {
          "output_type": "stream",
          "name": "stdout",
          "text": [
            "Number of NULL values in the training set: \n",
            "text     0\n",
            "label    0\n",
            "dtype: int64\n",
            "Number of NULL values in the test set: \n",
            "text     0\n",
            "label    0\n",
            "dtype: int64\n",
            "Number of NULL values in the validation set: \n",
            "text     0\n",
            "label    0\n",
            "dtype: int64\n"
          ]
        }
      ],
      "source": [
        "print(\"Number of NULL values in the training set: \")\n",
        "print(df1.isnull().sum())\n",
        "print(\"Number of NULL values in the test set: \")\n",
        "print(df2.isnull().sum())\n",
        "print(\"Number of NULL values in the validation set: \")\n",
        "print(df3.isnull().sum())"
      ]
    },
    {
      "cell_type": "code",
      "execution_count": 16,
      "id": "ce1cd242",
      "metadata": {
        "execution": {
          "iopub.execute_input": "2023-12-04T13:48:35.460196Z",
          "iopub.status.busy": "2023-12-04T13:48:35.459550Z",
          "iopub.status.idle": "2023-12-04T13:48:35.476815Z",
          "shell.execute_reply": "2023-12-04T13:48:35.475292Z"
        },
        "papermill": {
          "duration": 0.026401,
          "end_time": "2023-12-04T13:48:35.478997",
          "exception": false,
          "start_time": "2023-12-04T13:48:35.452596",
          "status": "completed"
        },
        "tags": [],
        "id": "ce1cd242"
      },
      "outputs": [],
      "source": [
        "df1.drop(df1[df1.duplicated()].index, axis=0, inplace=True)\n",
        "df2.drop(df2[df2.duplicated()].index, axis=0, inplace=True)\n",
        "df3.drop(df3[df3.duplicated()].index, axis=0, inplace=True)"
      ]
    },
    {
      "cell_type": "code",
      "execution_count": 17,
      "id": "b4f8b214",
      "metadata": {
        "execution": {
          "iopub.execute_input": "2023-12-04T13:48:35.491841Z",
          "iopub.status.busy": "2023-12-04T13:48:35.491375Z",
          "iopub.status.idle": "2023-12-04T13:48:35.689103Z",
          "shell.execute_reply": "2023-12-04T13:48:35.687884Z"
        },
        "papermill": {
          "duration": 0.207469,
          "end_time": "2023-12-04T13:48:35.691882",
          "exception": false,
          "start_time": "2023-12-04T13:48:35.484413",
          "status": "completed"
        },
        "tags": [],
        "colab": {
          "base_uri": "https://localhost:8080/",
          "height": 451
        },
        "id": "b4f8b214",
        "outputId": "0f49e26c-bbd6-4f4b-fc21-dc9a2f473a85"
      },
      "outputs": [
        {
          "output_type": "display_data",
          "data": {
            "text/plain": [
              "<Figure size 640x480 with 1 Axes>"
            ],
            "image/png": "[encoded data removed]"
          },
          "metadata": {}
        }
      ],
      "source": [
        "combined_df = pd.concat([df1, df2, df3])\n",
        "label_counts = combined_df['label'].value_counts()\n",
        "\n",
        "sns.countplot(x='label', data=combined_df, order=combined_df['label'].value_counts().index)\n",
        "plt.xlabel('Emotions')\n",
        "plt.ylabel('Number of Texts')\n",
        "plt.show()"
      ]
    },
    {
      "cell_type": "code",
      "execution_count": 18,
      "id": "17801487",
      "metadata": {
        "execution": {
          "iopub.execute_input": "2023-12-04T13:48:35.705624Z",
          "iopub.status.busy": "2023-12-04T13:48:35.705121Z",
          "iopub.status.idle": "2023-12-04T13:48:35.859758Z",
          "shell.execute_reply": "2023-12-04T13:48:35.858741Z"
        },
        "papermill": {
          "duration": 0.164184,
          "end_time": "2023-12-04T13:48:35.861956",
          "exception": false,
          "start_time": "2023-12-04T13:48:35.697772",
          "status": "completed"
        },
        "tags": [],
        "colab": {
          "base_uri": "https://localhost:8080/",
          "height": 675
        },
        "id": "17801487",
        "outputId": "a69a449c-a546-4d49-ffef-3d01d459885e"
      },
      "outputs": [
        {
          "output_type": "display_data",
          "data": {
            "text/plain": [
              "<Figure size 800x800 with 1 Axes>"
            ],
            "image/png": "[encoded data removed]"
          },
          "metadata": {}
        }
      ],
      "source": [
        "plt.figure(figsize=(8, 8))\n",
        "plt.pie(combined_df['label'].value_counts().values, labels=combined_df['label'].value_counts().index, autopct='%1.1f%%', startangle=140,\n",
        "        colors=sns.color_palette('viridis', len(combined_df['label'].value_counts().index)))\n",
        "plt.title('Distribution of Labels')\n",
        "plt.show()"
      ]
    },
    {
      "cell_type": "code",
      "execution_count": 19,
      "id": "228ee33b",
      "metadata": {
        "execution": {
          "iopub.execute_input": "2023-12-04T13:48:35.880205Z",
          "iopub.status.busy": "2023-12-04T13:48:35.879787Z",
          "iopub.status.idle": "2023-12-04T13:48:35.895939Z",
          "shell.execute_reply": "2023-12-04T13:48:35.894914Z"
        },
        "papermill": {
          "duration": 0.028019,
          "end_time": "2023-12-04T13:48:35.898207",
          "exception": false,
          "start_time": "2023-12-04T13:48:35.870188",
          "status": "completed"
        },
        "tags": [],
        "id": "228ee33b"
      },
      "outputs": [],
      "source": [
        "df1['text']= df1['text'].apply(lambda x: x.lower())\n",
        "df2['text']= df2['text'].apply(lambda x: x.lower())\n",
        "df3['text']= df3['text'].apply(lambda x: x.lower())"
      ]
    },
    {
      "cell_type": "code",
      "execution_count": 20,
      "id": "4a16eeb2",
      "metadata": {
        "execution": {
          "iopub.execute_input": "2023-12-04T13:48:35.916355Z",
          "iopub.status.busy": "2023-12-04T13:48:35.915977Z",
          "iopub.status.idle": "2023-12-04T13:48:35.924740Z",
          "shell.execute_reply": "2023-12-04T13:48:35.923341Z"
        },
        "papermill": {
          "duration": 0.0208,
          "end_time": "2023-12-04T13:48:35.927305",
          "exception": false,
          "start_time": "2023-12-04T13:48:35.906505",
          "status": "completed"
        },
        "tags": [],
        "id": "4a16eeb2"
      },
      "outputs": [],
      "source": [
        "def remove_stopwords(text):\n",
        "    stop_words = set(stopwords.words('english'))\n",
        "    words = word_tokenize(text)\n",
        "    filtered_words = [word for word in words if word.lower() not in stop_words]\n",
        "    return ' '.join(filtered_words)\n",
        "\n",
        "# lemmatisation\n",
        "def apply_lemmatization(text):\n",
        "    lemmatizer = WordNetLemmatizer()\n",
        "    words = word_tokenize(text)\n",
        "    lemmatized_words = [lemmatizer.lemmatize(word) for word in words]\n",
        "    return ' '.join(lemmatized_words)\n",
        "\n",
        "# tokenisation\n",
        "def tokenize_text(text):\n",
        "    tokens = word_tokenize(text)\n",
        "    return tokens\n",
        "\n",
        "# Defining a function for token lemmatisation\n",
        "def lemmatize_tokens(tokens):\n",
        "    lemmatizer = WordNetLemmatizer()\n",
        "    lemmatized_tokens = [lemmatizer.lemmatize(token) for token in tokens]\n",
        "    return lemmatized_tokens"
      ]
    },
    {
      "cell_type": "code",
      "execution_count": 22,
      "id": "0f7dc70c",
      "metadata": {
        "execution": {
          "iopub.execute_input": "2023-12-04T13:48:35.944329Z",
          "iopub.status.busy": "2023-12-04T13:48:35.942634Z",
          "iopub.status.idle": "2023-12-04T13:48:35.951605Z",
          "shell.execute_reply": "2023-12-04T13:48:35.950379Z"
        },
        "papermill": {
          "duration": 0.020095,
          "end_time": "2023-12-04T13:48:35.954040",
          "exception": false,
          "start_time": "2023-12-04T13:48:35.933945",
          "status": "completed"
        },
        "tags": [],
        "id": "0f7dc70c"
      },
      "outputs": [],
      "source": [
        "def parse_emojis(text):\n",
        "\n",
        "\n",
        "    emojis = [c for c in text if c in emoji.distinct_emoji_list(c)]\n",
        "\n",
        "\n",
        "    emoji_names = [emoji.demojize(e) for e in emojis]\n",
        "\n",
        "    parsed_emojis = ' '.join(emoji_names)\n",
        "\n",
        "    return parsed_emojis\n",
        "\n",
        "def remove_special_characters(text):\n",
        "\n",
        "    text = re.sub(r'@\\w+', '', text)\n",
        "\n",
        "    #hashtag\n",
        "    text = re.sub(r'#', ',', text)\n",
        "\n",
        "    # Parsing emojis\n",
        "    text = str(parse_emojis(text))\n",
        "\n",
        "    text = re.sub(r'\\d+', '', text)\n",
        "\n",
        "    #HTML tags\n",
        "    text = re.sub(r'<[^>]*>', '', text)\n",
        "\n",
        "    # URLs\n",
        "    text = re.sub(r'http[s]?://(?:[a-zA-Z]|[0-9]|[$-_@.&+]|[!*\\\\(\\\\),]|(?:%[0-9a-fA-F][0-9a-fA-F]))+', '', text)\n",
        "\n",
        "    return text"
      ]
    },
    {
      "cell_type": "code",
      "execution_count": 23,
      "id": "74af467c",
      "metadata": {
        "execution": {
          "iopub.execute_input": "2023-12-04T13:48:35.969743Z",
          "iopub.status.busy": "2023-12-04T13:48:35.969198Z",
          "iopub.status.idle": "2023-12-04T13:48:37.680185Z",
          "shell.execute_reply": "2023-12-04T13:48:37.678979Z"
        },
        "papermill": {
          "duration": 1.722357,
          "end_time": "2023-12-04T13:48:37.683228",
          "exception": false,
          "start_time": "2023-12-04T13:48:35.960871",
          "status": "completed"
        },
        "tags": [],
        "id": "74af467c"
      },
      "outputs": [],
      "source": [
        "df1['text'] = df1['text'].apply(remove_special_characters)\n",
        "df2['text'] = df2['text'].apply(remove_special_characters)\n",
        "df3['text'] = df3['text'].apply(remove_special_characters)"
      ]
    },
    {
      "cell_type": "code",
      "execution_count": 24,
      "id": "0d0799be",
      "metadata": {
        "execution": {
          "iopub.execute_input": "2023-12-04T13:48:37.698799Z",
          "iopub.status.busy": "2023-12-04T13:48:37.698297Z",
          "iopub.status.idle": "2023-12-04T13:48:38.799518Z",
          "shell.execute_reply": "2023-12-04T13:48:38.798231Z"
        },
        "papermill": {
          "duration": 1.113028,
          "end_time": "2023-12-04T13:48:38.802992",
          "exception": false,
          "start_time": "2023-12-04T13:48:37.689964",
          "status": "completed"
        },
        "tags": [],
        "id": "0d0799be"
      },
      "outputs": [],
      "source": [
        "df1['text'] = df1['text'].apply(remove_stopwords)\n",
        "df2['text'] = df2['text'].apply(remove_stopwords)\n",
        "df3['text'] = df3['text'].apply(remove_stopwords)"
      ]
    },
    {
      "cell_type": "code",
      "execution_count": 25,
      "id": "b16c5078",
      "metadata": {
        "execution": {
          "iopub.execute_input": "2023-12-04T13:48:38.819756Z",
          "iopub.status.busy": "2023-12-04T13:48:38.819263Z",
          "iopub.status.idle": "2023-12-04T13:48:38.834371Z",
          "shell.execute_reply": "2023-12-04T13:48:38.832775Z"
        },
        "papermill": {
          "duration": 0.027541,
          "end_time": "2023-12-04T13:48:38.837451",
          "exception": false,
          "start_time": "2023-12-04T13:48:38.809910",
          "status": "completed"
        },
        "tags": [],
        "id": "b16c5078"
      },
      "outputs": [],
      "source": [
        "\n",
        "def label_encode_dataframe(df):\n",
        "\n",
        "    non_numeric_cols = df.select_dtypes(exclude=[int, float]).columns\n",
        "    for col in non_numeric_cols:\n",
        "        label_encoder = LabelEncoder()\n",
        "        df[col] = label_encoder.fit_transform(df[col])\n",
        "\n",
        "    return df\n",
        "\n",
        "df_num1 = label_encode_dataframe(df1)\n",
        "df_num2 = label_encode_dataframe(df2)\n",
        "df_num3 = label_encode_dataframe(df3)"
      ]
    },
    {
      "cell_type": "code",
      "execution_count": 26,
      "id": "802bc73c",
      "metadata": {
        "execution": {
          "iopub.execute_input": "2023-12-04T13:48:38.852508Z",
          "iopub.status.busy": "2023-12-04T13:48:38.851989Z",
          "iopub.status.idle": "2023-12-04T13:48:38.859059Z",
          "shell.execute_reply": "2023-12-04T13:48:38.857631Z"
        },
        "papermill": {
          "duration": 0.018178,
          "end_time": "2023-12-04T13:48:38.862243",
          "exception": false,
          "start_time": "2023-12-04T13:48:38.844065",
          "status": "completed"
        },
        "tags": [],
        "id": "802bc73c"
      },
      "outputs": [],
      "source": [
        "X_train = df_num1[\"text\"]\n",
        "Y_train = df_num1['label']\n",
        "\n",
        "X_test = df_num2[\"text\"]\n",
        "Y_test = df_num2['label']\n",
        "\n",
        "X_val = df_num3[\"text\"]\n",
        "Y_val = df_num3['label']"
      ]
    },
    {
      "cell_type": "code",
      "execution_count": 27,
      "id": "7aa116bd",
      "metadata": {
        "execution": {
          "iopub.execute_input": "2023-12-04T13:48:38.878027Z",
          "iopub.status.busy": "2023-12-04T13:48:38.877636Z",
          "iopub.status.idle": "2023-12-04T13:48:38.889951Z",
          "shell.execute_reply": "2023-12-04T13:48:38.888828Z"
        },
        "papermill": {
          "duration": 0.022666,
          "end_time": "2023-12-04T13:48:38.891895",
          "exception": false,
          "start_time": "2023-12-04T13:48:38.869229",
          "status": "completed"
        },
        "tags": [],
        "colab": {
          "base_uri": "https://localhost:8080/"
        },
        "id": "7aa116bd",
        "outputId": "d8ab6ff1-bd7b-44a7-d898-018d90672f89"
      },
      "outputs": [
        {
          "output_type": "execute_result",
          "data": {
            "text/plain": [
              "((3613,), (3613,), (3613,), (3613,), (347,), (347,))"
            ]
          },
          "metadata": {},
          "execution_count": 27
        }
      ],
      "source": [
        "scaler = MinMaxScaler()\n",
        "\n",
        "X_train_scaled = scaler.fit_transform(X_train.values.reshape(-1, 1))\n",
        "X_test_scaled = scaler.fit_transform(X_test.values.reshape(-1, 1))\n",
        "X_val_scaled = scaler.fit_transform(X_val.values.reshape(-1, 1))\n",
        "\n",
        "X_train.shape, X_test.shape, Y_train.shape, Y_test.shape, X_val.shape, Y_val.shape"
      ]
    },
    {
      "cell_type": "code",
      "execution_count": 28,
      "id": "62b86e4c",
      "metadata": {
        "execution": {
          "iopub.execute_input": "2023-12-04T13:48:38.906750Z",
          "iopub.status.busy": "2023-12-04T13:48:38.906216Z",
          "iopub.status.idle": "2023-12-04T13:48:39.158488Z",
          "shell.execute_reply": "2023-12-04T13:48:39.157789Z"
        },
        "papermill": {
          "duration": 0.262164,
          "end_time": "2023-12-04T13:48:39.160761",
          "exception": false,
          "start_time": "2023-12-04T13:48:38.898597",
          "status": "completed"
        },
        "tags": [],
        "colab": {
          "base_uri": "https://localhost:8080/"
        },
        "id": "62b86e4c",
        "outputId": "a4019aae-b451-4e23-d4ee-0c17cd1c8c04"
      },
      "outputs": [
        {
          "output_type": "stream",
          "name": "stdout",
          "text": [
            "Random Forest (Validation):  31.41\n",
            "Random Forest (Test):  36.65\n"
          ]
        }
      ],
      "source": [
        "# Random Forest model\n",
        "random_forest = RandomForestClassifier(n_estimators=100, random_state=42)\n",
        "random_forest.fit(X_train_scaled, Y_train)\n",
        "Y_val_pred = random_forest.predict(X_val_scaled)\n",
        "acc_random_forest_val = accuracy_score(Y_val, Y_val_pred)\n",
        "print(\"Random Forest (Validation): \", round(acc_random_forest_val * 100, 2))\n",
        "Y_test_pred = random_forest.predict(X_test_scaled)\n",
        "acc_random_forest_test = accuracy_score(Y_test, Y_test_pred)\n",
        "print(\"Random Forest (Test): \", round(acc_random_forest_test * 100, 2))"
      ]
    },
    {
      "cell_type": "code",
      "execution_count": 29,
      "id": "326b5c2c",
      "metadata": {
        "execution": {
          "iopub.execute_input": "2023-12-04T13:48:39.176473Z",
          "iopub.status.busy": "2023-12-04T13:48:39.175755Z",
          "iopub.status.idle": "2023-12-04T13:48:39.188910Z",
          "shell.execute_reply": "2023-12-04T13:48:39.187329Z"
        },
        "papermill": {
          "duration": 0.02359,
          "end_time": "2023-12-04T13:48:39.191147",
          "exception": false,
          "start_time": "2023-12-04T13:48:39.167557",
          "status": "completed"
        },
        "tags": [],
        "colab": {
          "base_uri": "https://localhost:8080/"
        },
        "id": "326b5c2c",
        "outputId": "15eafe91-4ae2-442e-af22-96eab32e5ec0"
      },
      "outputs": [
        {
          "output_type": "stream",
          "name": "stdout",
          "text": [
            "Gaussian Naive Bayes (Validation):  31.7\n",
            "Gaussian Naive Bayes (Test):  31.75\n"
          ]
        }
      ],
      "source": [
        "# Gaussian Naive Bayes model\n",
        "naive_bayes = GaussianNB()\n",
        "naive_bayes.fit(X_train_scaled, Y_train)\n",
        "Y_val_pred = naive_bayes.predict(X_val_scaled)\n",
        "acc_naive_bayes_val = accuracy_score(Y_val, Y_val_pred)\n",
        "print(\"Gaussian Naive Bayes (Validation): \", round(acc_naive_bayes_val * 100, 2))\n",
        "Y_test_pred = naive_bayes.predict(X_test_scaled)\n",
        "acc_naive_bayes_test = accuracy_score(Y_test, Y_test_pred)\n",
        "print(\"Gaussian Naive Bayes (Test): \", round(acc_naive_bayes_test * 100, 2))"
      ]
    },
    {
      "cell_type": "code",
      "source": [],
      "metadata": {
        "id": "lWeg16OgLbHz"
      },
      "id": "lWeg16OgLbHz",
      "execution_count": null,
      "outputs": []
    }
  ],
  "metadata": {
    "kaggle": {
      "accelerator": "none",
      "dataSources": [
        {
          "datasetId": 1334611,
          "sourceId": 2222182,
          "sourceType": "datasetVersion"
        }
      ],
      "dockerImageVersionId": 30587,
      "isGpuEnabled": false,
      "isInternetEnabled": false,
      "language": "python",
      "sourceType": "notebook"
    },
    "kernelspec": {
      "display_name": "Python 3",
      "name": "python3"
    },
    "language_info": {
      "codemirror_mode": {
        "name": "ipython",
        "version": 3
      },
      "file_extension": ".py",
      "mimetype": "text/x-python",
      "name": "python",
      "nbconvert_exporter": "python",
      "pygments_lexer": "ipython3",
      "version": "3.10.12"
    },
    "papermill": {
      "default_parameters": {},
      "duration": 98.674587,
      "end_time": "2023-12-04T13:48:40.435430",
      "environment_variables": {},
      "exception": null,
      "input_path": "__notebook__.ipynb",
      "output_path": "__notebook__.ipynb",
      "parameters": {},
      "start_time": "2023-12-04T13:47:01.760843",
      "version": "2.4.0"
    },
    "colab": {
      "provenance": [],
      "gpuType": "T4",
      "include_colab_link": true
    },
    "accelerator": "GPU"
  },
  "nbformat": 4,
  "nbformat_minor": 5
}